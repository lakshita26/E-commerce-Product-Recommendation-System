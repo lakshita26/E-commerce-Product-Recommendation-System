{
 "cells": [
  {
   "cell_type": "markdown",
   "id": "35d61004",
   "metadata": {},
   "source": [
    "**You'll be working on building a recommendation engine for our e-commerce platform. Utilizing customer behavior data and machine learning techniques, you'll design a system capable of suggesting personalized product recommendations to users, enhancing their shopping experience and increasing sales.**"
   ]
  },
  {
   "cell_type": "code",
   "execution_count": 1,
   "id": "6b884e2a",
   "metadata": {},
   "outputs": [],
   "source": [
    "import pandas as pd\n",
    "import numpy as np"
   ]
  },
  {
   "cell_type": "code",
   "execution_count": 2,
   "id": "c1111492",
   "metadata": {},
   "outputs": [],
   "source": [
    "df = pd.read_csv('flipkart_reviews_large_dataset_sample.csv')"
   ]
  },
  {
   "cell_type": "code",
   "execution_count": 3,
   "id": "a1ce869b",
   "metadata": {},
   "outputs": [
    {
     "data": {
      "text/html": [
       "<div>\n",
       "<style scoped>\n",
       "    .dataframe tbody tr th:only-of-type {\n",
       "        vertical-align: middle;\n",
       "    }\n",
       "\n",
       "    .dataframe tbody tr th {\n",
       "        vertical-align: top;\n",
       "    }\n",
       "\n",
       "    .dataframe thead th {\n",
       "        text-align: right;\n",
       "    }\n",
       "</style>\n",
       "<table border=\"1\" class=\"dataframe\">\n",
       "  <thead>\n",
       "    <tr style=\"text-align: right;\">\n",
       "      <th></th>\n",
       "      <th>ProductUrl</th>\n",
       "      <th>productTitle</th>\n",
       "      <th>productPrice</th>\n",
       "      <th>averageRating</th>\n",
       "      <th>reviewTitle</th>\n",
       "      <th>reviewDescription</th>\n",
       "      <th>reviewAuthor</th>\n",
       "      <th>reviewAt</th>\n",
       "      <th>reviewLikes</th>\n",
       "      <th>reviewDislikes</th>\n",
       "      <th>certifiedBuyer</th>\n",
       "      <th>reviewerLocation</th>\n",
       "      <th>fiveStarRatingCount</th>\n",
       "      <th>fourStarRatingCount</th>\n",
       "      <th>threeStarRatingCount</th>\n",
       "      <th>twoStarRatingCount</th>\n",
       "      <th>oneStarRatingCount</th>\n",
       "      <th>reviewImages</th>\n",
       "      <th>scrapedAt</th>\n",
       "      <th>uniqId</th>\n",
       "    </tr>\n",
       "  </thead>\n",
       "  <tbody>\n",
       "    <tr>\n",
       "      <th>0</th>\n",
       "      <td>https://www.flipkart.com/samsung-galaxy-nxt-go...</td>\n",
       "      <td>SAMSUNG Galaxy On Nxt (Gold, 16 GB)</td>\n",
       "      <td>₹9,499</td>\n",
       "      <td>4.3</td>\n",
       "      <td>Just wow!</td>\n",
       "      <td>unbelievable</td>\n",
       "      <td>KOUSIK DUTTA</td>\n",
       "      <td>Aug, 2018</td>\n",
       "      <td>0</td>\n",
       "      <td>0</td>\n",
       "      <td>True</td>\n",
       "      <td>Burdwan</td>\n",
       "      <td>2,20,147</td>\n",
       "      <td>83,936</td>\n",
       "      <td>30,026</td>\n",
       "      <td>10,267</td>\n",
       "      <td>21,199</td>\n",
       "      <td>NaN</td>\n",
       "      <td>21/02/2022 00:57:30</td>\n",
       "      <td>db7fc5e1-684d-5d92-a41b-25e40f37c0fe</td>\n",
       "    </tr>\n",
       "    <tr>\n",
       "      <th>1</th>\n",
       "      <td>https://www.flipkart.com/samsung-galaxy-nxt-go...</td>\n",
       "      <td>SAMSUNG Galaxy On Nxt (Gold, 16 GB)</td>\n",
       "      <td>₹9,499</td>\n",
       "      <td>4.3</td>\n",
       "      <td>Awesome</td>\n",
       "      <td>good mobile</td>\n",
       "      <td>Flipkart Customer</td>\n",
       "      <td>Aug, 2018</td>\n",
       "      <td>0</td>\n",
       "      <td>0</td>\n",
       "      <td>True</td>\n",
       "      <td>Kurnool</td>\n",
       "      <td>2,20,147</td>\n",
       "      <td>83,936</td>\n",
       "      <td>30,026</td>\n",
       "      <td>10,267</td>\n",
       "      <td>21,199</td>\n",
       "      <td>NaN</td>\n",
       "      <td>21/02/2022 00:57:30</td>\n",
       "      <td>a2661c23-13b4-5823-959d-4324b9442056</td>\n",
       "    </tr>\n",
       "    <tr>\n",
       "      <th>2</th>\n",
       "      <td>https://www.flipkart.com/samsung-galaxy-nxt-go...</td>\n",
       "      <td>SAMSUNG Galaxy On Nxt (Gold, 16 GB)</td>\n",
       "      <td>₹9,499</td>\n",
       "      <td>4.3</td>\n",
       "      <td>Does the job</td>\n",
       "      <td>good</td>\n",
       "      <td>Rakesh  Ranjan</td>\n",
       "      <td>Aug, 2018</td>\n",
       "      <td>0</td>\n",
       "      <td>0</td>\n",
       "      <td>True</td>\n",
       "      <td>Noida</td>\n",
       "      <td>2,20,147</td>\n",
       "      <td>83,936</td>\n",
       "      <td>30,026</td>\n",
       "      <td>10,267</td>\n",
       "      <td>21,199</td>\n",
       "      <td>NaN</td>\n",
       "      <td>21/02/2022 00:57:30</td>\n",
       "      <td>0f2d6a35-7f63-57f8-8d20-0c8ab3141c74</td>\n",
       "    </tr>\n",
       "    <tr>\n",
       "      <th>3</th>\n",
       "      <td>https://www.flipkart.com/samsung-galaxy-nxt-go...</td>\n",
       "      <td>SAMSUNG Galaxy On Nxt (Gold, 16 GB)</td>\n",
       "      <td>₹9,499</td>\n",
       "      <td>4.3</td>\n",
       "      <td>Good</td>\n",
       "      <td>it's good</td>\n",
       "      <td>PabiT Gouda</td>\n",
       "      <td>Aug, 2018</td>\n",
       "      <td>0</td>\n",
       "      <td>0</td>\n",
       "      <td>True</td>\n",
       "      <td>Behror</td>\n",
       "      <td>2,20,147</td>\n",
       "      <td>83,936</td>\n",
       "      <td>30,026</td>\n",
       "      <td>10,267</td>\n",
       "      <td>21,199</td>\n",
       "      <td>NaN</td>\n",
       "      <td>21/02/2022 00:57:30</td>\n",
       "      <td>f39db306-aca5-5c62-a75b-a9248de9566f</td>\n",
       "    </tr>\n",
       "    <tr>\n",
       "      <th>4</th>\n",
       "      <td>https://www.flipkart.com/samsung-galaxy-nxt-go...</td>\n",
       "      <td>SAMSUNG Galaxy On Nxt (Gold, 16 GB)</td>\n",
       "      <td>₹9,499</td>\n",
       "      <td>4.3</td>\n",
       "      <td>Wonderful</td>\n",
       "      <td>very nice</td>\n",
       "      <td>Sujal Patel</td>\n",
       "      <td>Aug, 2018</td>\n",
       "      <td>0</td>\n",
       "      <td>0</td>\n",
       "      <td>True</td>\n",
       "      <td>Dharampur</td>\n",
       "      <td>2,20,147</td>\n",
       "      <td>83,936</td>\n",
       "      <td>30,026</td>\n",
       "      <td>10,267</td>\n",
       "      <td>21,199</td>\n",
       "      <td>NaN</td>\n",
       "      <td>21/02/2022 00:57:30</td>\n",
       "      <td>27d2b3b2-7034-52b8-9b64-df5778853f44</td>\n",
       "    </tr>\n",
       "  </tbody>\n",
       "</table>\n",
       "</div>"
      ],
      "text/plain": [
       "                                          ProductUrl  \\\n",
       "0  https://www.flipkart.com/samsung-galaxy-nxt-go...   \n",
       "1  https://www.flipkart.com/samsung-galaxy-nxt-go...   \n",
       "2  https://www.flipkart.com/samsung-galaxy-nxt-go...   \n",
       "3  https://www.flipkart.com/samsung-galaxy-nxt-go...   \n",
       "4  https://www.flipkart.com/samsung-galaxy-nxt-go...   \n",
       "\n",
       "                          productTitle productPrice  averageRating  \\\n",
       "0  SAMSUNG Galaxy On Nxt (Gold, 16 GB)       ₹9,499            4.3   \n",
       "1  SAMSUNG Galaxy On Nxt (Gold, 16 GB)       ₹9,499            4.3   \n",
       "2  SAMSUNG Galaxy On Nxt (Gold, 16 GB)       ₹9,499            4.3   \n",
       "3  SAMSUNG Galaxy On Nxt (Gold, 16 GB)       ₹9,499            4.3   \n",
       "4  SAMSUNG Galaxy On Nxt (Gold, 16 GB)       ₹9,499            4.3   \n",
       "\n",
       "    reviewTitle reviewDescription       reviewAuthor   reviewAt  reviewLikes  \\\n",
       "0     Just wow!      unbelievable       KOUSIK DUTTA  Aug, 2018            0   \n",
       "1       Awesome       good mobile  Flipkart Customer  Aug, 2018            0   \n",
       "2  Does the job              good     Rakesh  Ranjan  Aug, 2018            0   \n",
       "3          Good         it's good        PabiT Gouda  Aug, 2018            0   \n",
       "4     Wonderful         very nice        Sujal Patel  Aug, 2018            0   \n",
       "\n",
       "   reviewDislikes  certifiedBuyer reviewerLocation fiveStarRatingCount  \\\n",
       "0               0            True          Burdwan            2,20,147   \n",
       "1               0            True          Kurnool            2,20,147   \n",
       "2               0            True            Noida            2,20,147   \n",
       "3               0            True           Behror            2,20,147   \n",
       "4               0            True        Dharampur            2,20,147   \n",
       "\n",
       "  fourStarRatingCount threeStarRatingCount twoStarRatingCount  \\\n",
       "0              83,936               30,026             10,267   \n",
       "1              83,936               30,026             10,267   \n",
       "2              83,936               30,026             10,267   \n",
       "3              83,936               30,026             10,267   \n",
       "4              83,936               30,026             10,267   \n",
       "\n",
       "  oneStarRatingCount reviewImages            scrapedAt  \\\n",
       "0             21,199          NaN  21/02/2022 00:57:30   \n",
       "1             21,199          NaN  21/02/2022 00:57:30   \n",
       "2             21,199          NaN  21/02/2022 00:57:30   \n",
       "3             21,199          NaN  21/02/2022 00:57:30   \n",
       "4             21,199          NaN  21/02/2022 00:57:30   \n",
       "\n",
       "                                 uniqId  \n",
       "0  db7fc5e1-684d-5d92-a41b-25e40f37c0fe  \n",
       "1  a2661c23-13b4-5823-959d-4324b9442056  \n",
       "2  0f2d6a35-7f63-57f8-8d20-0c8ab3141c74  \n",
       "3  f39db306-aca5-5c62-a75b-a9248de9566f  \n",
       "4  27d2b3b2-7034-52b8-9b64-df5778853f44  "
      ]
     },
     "execution_count": 3,
     "metadata": {},
     "output_type": "execute_result"
    }
   ],
   "source": [
    "df.head()"
   ]
  },
  {
   "cell_type": "code",
   "execution_count": 4,
   "id": "6c9890cc",
   "metadata": {},
   "outputs": [
    {
     "data": {
      "text/plain": [
       "(674, 20)"
      ]
     },
     "execution_count": 4,
     "metadata": {},
     "output_type": "execute_result"
    }
   ],
   "source": [
    "df.shape"
   ]
  },
  {
   "cell_type": "markdown",
   "id": "ad8354e7",
   "metadata": {},
   "source": [
    "**Data Preprocessing**"
   ]
  },
  {
   "cell_type": "code",
   "execution_count": 5,
   "id": "ea5606da",
   "metadata": {},
   "outputs": [
    {
     "data": {
      "text/plain": [
       "ProductUrl                0\n",
       "productTitle              0\n",
       "productPrice              0\n",
       "averageRating             0\n",
       "reviewTitle               1\n",
       "reviewDescription         0\n",
       "reviewAuthor              0\n",
       "reviewAt                  0\n",
       "reviewLikes               0\n",
       "reviewDislikes            0\n",
       "certifiedBuyer            0\n",
       "reviewerLocation          0\n",
       "fiveStarRatingCount       0\n",
       "fourStarRatingCount       0\n",
       "threeStarRatingCount      0\n",
       "twoStarRatingCount        0\n",
       "oneStarRatingCount        0\n",
       "reviewImages            417\n",
       "scrapedAt                 0\n",
       "uniqId                    0\n",
       "dtype: int64"
      ]
     },
     "execution_count": 5,
     "metadata": {},
     "output_type": "execute_result"
    }
   ],
   "source": [
    "df.isnull().sum()"
   ]
  },
  {
   "cell_type": "code",
   "execution_count": 3,
   "id": "12b4f6da",
   "metadata": {},
   "outputs": [
    {
     "name": "stderr",
     "output_type": "stream",
     "text": [
      "C:\\Users\\HP\\AppData\\Local\\Temp\\ipykernel_18160\\2626396463.py:1: FutureWarning: A value is trying to be set on a copy of a DataFrame or Series through chained assignment using an inplace method.\n",
      "The behavior will change in pandas 3.0. This inplace method will never work because the intermediate object on which we are setting values always behaves as a copy.\n",
      "\n",
      "For example, when doing 'df[col].method(value, inplace=True)', try using 'df.method({col: value}, inplace=True)' or df[col] = df[col].method(value) instead, to perform the operation inplace on the original object.\n",
      "\n",
      "\n",
      "  df['reviewTitle'].fillna('No Title', inplace=True)\n"
     ]
    }
   ],
   "source": [
    "df['reviewTitle'].fillna('No Title', inplace=True)"
   ]
  },
  {
   "cell_type": "code",
   "execution_count": 4,
   "id": "adf10f95",
   "metadata": {},
   "outputs": [
    {
     "data": {
      "text/plain": [
       "0"
      ]
     },
     "execution_count": 4,
     "metadata": {},
     "output_type": "execute_result"
    }
   ],
   "source": [
    "df['reviewTitle'].isnull().sum()"
   ]
  },
  {
   "cell_type": "code",
   "execution_count": 5,
   "id": "b27a6625",
   "metadata": {},
   "outputs": [
    {
     "name": "stderr",
     "output_type": "stream",
     "text": [
      "C:\\Users\\HP\\AppData\\Local\\Temp\\ipykernel_18160\\376645201.py:1: FutureWarning: A value is trying to be set on a copy of a DataFrame or Series through chained assignment using an inplace method.\n",
      "The behavior will change in pandas 3.0. This inplace method will never work because the intermediate object on which we are setting values always behaves as a copy.\n",
      "\n",
      "For example, when doing 'df[col].method(value, inplace=True)', try using 'df.method({col: value}, inplace=True)' or df[col] = df[col].method(value) instead, to perform the operation inplace on the original object.\n",
      "\n",
      "\n",
      "  df['reviewImages'].fillna('No Image', inplace=True)\n"
     ]
    }
   ],
   "source": [
    "df['reviewImages'].fillna('No Image', inplace=True)"
   ]
  },
  {
   "cell_type": "code",
   "execution_count": 6,
   "id": "9d84901d",
   "metadata": {},
   "outputs": [
    {
     "data": {
      "text/plain": [
       "0"
      ]
     },
     "execution_count": 6,
     "metadata": {},
     "output_type": "execute_result"
    }
   ],
   "source": [
    "df['reviewImages'].isnull().sum()"
   ]
  },
  {
   "cell_type": "code",
   "execution_count": 7,
   "id": "9a172b89",
   "metadata": {},
   "outputs": [],
   "source": [
    "# removing Rupee symbol\n",
    "df['productPrice'] = df['productPrice'].str.replace('₹', '').str.replace(',', '').astype(float)"
   ]
  },
  {
   "cell_type": "code",
   "execution_count": 8,
   "id": "a04b0d80",
   "metadata": {},
   "outputs": [],
   "source": [
    "# Removing commas\n",
    "rating_columns = ['fiveStarRatingCount', \n",
    "                  'fourStarRatingCount', \n",
    "                  'threeStarRatingCount', \n",
    "                  'twoStarRatingCount', \n",
    "                  'oneStarRatingCount']\n",
    "\n",
    "for col in rating_columns:\n",
    "    df[col] = df[col].str.replace(',', '').astype(int)"
   ]
  },
  {
   "cell_type": "code",
   "execution_count": 9,
   "id": "70877f69",
   "metadata": {},
   "outputs": [
    {
     "data": {
      "text/plain": [
       "ProductUrl               object\n",
       "productTitle             object\n",
       "productPrice            float64\n",
       "averageRating           float64\n",
       "reviewTitle              object\n",
       "reviewDescription        object\n",
       "reviewAuthor             object\n",
       "reviewAt                 object\n",
       "reviewLikes               int64\n",
       "reviewDislikes            int64\n",
       "certifiedBuyer             bool\n",
       "reviewerLocation         object\n",
       "fiveStarRatingCount       int32\n",
       "fourStarRatingCount       int32\n",
       "threeStarRatingCount      int32\n",
       "twoStarRatingCount        int32\n",
       "oneStarRatingCount        int32\n",
       "reviewImages             object\n",
       "scrapedAt                object\n",
       "uniqId                   object\n",
       "dtype: object"
      ]
     },
     "execution_count": 9,
     "metadata": {},
     "output_type": "execute_result"
    }
   ],
   "source": [
    "df.dtypes"
   ]
  },
  {
   "cell_type": "code",
   "execution_count": 10,
   "id": "88a93191",
   "metadata": {},
   "outputs": [
    {
     "data": {
      "text/html": [
       "<div>\n",
       "<style scoped>\n",
       "    .dataframe tbody tr th:only-of-type {\n",
       "        vertical-align: middle;\n",
       "    }\n",
       "\n",
       "    .dataframe tbody tr th {\n",
       "        vertical-align: top;\n",
       "    }\n",
       "\n",
       "    .dataframe thead th {\n",
       "        text-align: right;\n",
       "    }\n",
       "</style>\n",
       "<table border=\"1\" class=\"dataframe\">\n",
       "  <thead>\n",
       "    <tr style=\"text-align: right;\">\n",
       "      <th></th>\n",
       "      <th>ProductUrl</th>\n",
       "      <th>productTitle</th>\n",
       "      <th>productPrice</th>\n",
       "      <th>averageRating</th>\n",
       "      <th>reviewTitle</th>\n",
       "      <th>reviewDescription</th>\n",
       "      <th>reviewAuthor</th>\n",
       "      <th>reviewAt</th>\n",
       "      <th>reviewLikes</th>\n",
       "      <th>reviewDislikes</th>\n",
       "      <th>certifiedBuyer</th>\n",
       "      <th>reviewerLocation</th>\n",
       "      <th>fiveStarRatingCount</th>\n",
       "      <th>fourStarRatingCount</th>\n",
       "      <th>threeStarRatingCount</th>\n",
       "      <th>twoStarRatingCount</th>\n",
       "      <th>oneStarRatingCount</th>\n",
       "      <th>reviewImages</th>\n",
       "      <th>scrapedAt</th>\n",
       "      <th>uniqId</th>\n",
       "    </tr>\n",
       "  </thead>\n",
       "  <tbody>\n",
       "    <tr>\n",
       "      <th>0</th>\n",
       "      <td>https://www.flipkart.com/samsung-galaxy-nxt-go...</td>\n",
       "      <td>SAMSUNG Galaxy On Nxt (Gold, 16 GB)</td>\n",
       "      <td>9499.0</td>\n",
       "      <td>4.3</td>\n",
       "      <td>Just wow!</td>\n",
       "      <td>unbelievable</td>\n",
       "      <td>KOUSIK DUTTA</td>\n",
       "      <td>Aug, 2018</td>\n",
       "      <td>0</td>\n",
       "      <td>0</td>\n",
       "      <td>True</td>\n",
       "      <td>Burdwan</td>\n",
       "      <td>220147</td>\n",
       "      <td>83936</td>\n",
       "      <td>30026</td>\n",
       "      <td>10267</td>\n",
       "      <td>21199</td>\n",
       "      <td>No Image</td>\n",
       "      <td>21/02/2022 00:57:30</td>\n",
       "      <td>db7fc5e1-684d-5d92-a41b-25e40f37c0fe</td>\n",
       "    </tr>\n",
       "    <tr>\n",
       "      <th>1</th>\n",
       "      <td>https://www.flipkart.com/samsung-galaxy-nxt-go...</td>\n",
       "      <td>SAMSUNG Galaxy On Nxt (Gold, 16 GB)</td>\n",
       "      <td>9499.0</td>\n",
       "      <td>4.3</td>\n",
       "      <td>Awesome</td>\n",
       "      <td>good mobile</td>\n",
       "      <td>Flipkart Customer</td>\n",
       "      <td>Aug, 2018</td>\n",
       "      <td>0</td>\n",
       "      <td>0</td>\n",
       "      <td>True</td>\n",
       "      <td>Kurnool</td>\n",
       "      <td>220147</td>\n",
       "      <td>83936</td>\n",
       "      <td>30026</td>\n",
       "      <td>10267</td>\n",
       "      <td>21199</td>\n",
       "      <td>No Image</td>\n",
       "      <td>21/02/2022 00:57:30</td>\n",
       "      <td>a2661c23-13b4-5823-959d-4324b9442056</td>\n",
       "    </tr>\n",
       "    <tr>\n",
       "      <th>2</th>\n",
       "      <td>https://www.flipkart.com/samsung-galaxy-nxt-go...</td>\n",
       "      <td>SAMSUNG Galaxy On Nxt (Gold, 16 GB)</td>\n",
       "      <td>9499.0</td>\n",
       "      <td>4.3</td>\n",
       "      <td>Does the job</td>\n",
       "      <td>good</td>\n",
       "      <td>Rakesh  Ranjan</td>\n",
       "      <td>Aug, 2018</td>\n",
       "      <td>0</td>\n",
       "      <td>0</td>\n",
       "      <td>True</td>\n",
       "      <td>Noida</td>\n",
       "      <td>220147</td>\n",
       "      <td>83936</td>\n",
       "      <td>30026</td>\n",
       "      <td>10267</td>\n",
       "      <td>21199</td>\n",
       "      <td>No Image</td>\n",
       "      <td>21/02/2022 00:57:30</td>\n",
       "      <td>0f2d6a35-7f63-57f8-8d20-0c8ab3141c74</td>\n",
       "    </tr>\n",
       "    <tr>\n",
       "      <th>3</th>\n",
       "      <td>https://www.flipkart.com/samsung-galaxy-nxt-go...</td>\n",
       "      <td>SAMSUNG Galaxy On Nxt (Gold, 16 GB)</td>\n",
       "      <td>9499.0</td>\n",
       "      <td>4.3</td>\n",
       "      <td>Good</td>\n",
       "      <td>it's good</td>\n",
       "      <td>PabiT Gouda</td>\n",
       "      <td>Aug, 2018</td>\n",
       "      <td>0</td>\n",
       "      <td>0</td>\n",
       "      <td>True</td>\n",
       "      <td>Behror</td>\n",
       "      <td>220147</td>\n",
       "      <td>83936</td>\n",
       "      <td>30026</td>\n",
       "      <td>10267</td>\n",
       "      <td>21199</td>\n",
       "      <td>No Image</td>\n",
       "      <td>21/02/2022 00:57:30</td>\n",
       "      <td>f39db306-aca5-5c62-a75b-a9248de9566f</td>\n",
       "    </tr>\n",
       "    <tr>\n",
       "      <th>4</th>\n",
       "      <td>https://www.flipkart.com/samsung-galaxy-nxt-go...</td>\n",
       "      <td>SAMSUNG Galaxy On Nxt (Gold, 16 GB)</td>\n",
       "      <td>9499.0</td>\n",
       "      <td>4.3</td>\n",
       "      <td>Wonderful</td>\n",
       "      <td>very nice</td>\n",
       "      <td>Sujal Patel</td>\n",
       "      <td>Aug, 2018</td>\n",
       "      <td>0</td>\n",
       "      <td>0</td>\n",
       "      <td>True</td>\n",
       "      <td>Dharampur</td>\n",
       "      <td>220147</td>\n",
       "      <td>83936</td>\n",
       "      <td>30026</td>\n",
       "      <td>10267</td>\n",
       "      <td>21199</td>\n",
       "      <td>No Image</td>\n",
       "      <td>21/02/2022 00:57:30</td>\n",
       "      <td>27d2b3b2-7034-52b8-9b64-df5778853f44</td>\n",
       "    </tr>\n",
       "  </tbody>\n",
       "</table>\n",
       "</div>"
      ],
      "text/plain": [
       "                                          ProductUrl  \\\n",
       "0  https://www.flipkart.com/samsung-galaxy-nxt-go...   \n",
       "1  https://www.flipkart.com/samsung-galaxy-nxt-go...   \n",
       "2  https://www.flipkart.com/samsung-galaxy-nxt-go...   \n",
       "3  https://www.flipkart.com/samsung-galaxy-nxt-go...   \n",
       "4  https://www.flipkart.com/samsung-galaxy-nxt-go...   \n",
       "\n",
       "                          productTitle  productPrice  averageRating  \\\n",
       "0  SAMSUNG Galaxy On Nxt (Gold, 16 GB)        9499.0            4.3   \n",
       "1  SAMSUNG Galaxy On Nxt (Gold, 16 GB)        9499.0            4.3   \n",
       "2  SAMSUNG Galaxy On Nxt (Gold, 16 GB)        9499.0            4.3   \n",
       "3  SAMSUNG Galaxy On Nxt (Gold, 16 GB)        9499.0            4.3   \n",
       "4  SAMSUNG Galaxy On Nxt (Gold, 16 GB)        9499.0            4.3   \n",
       "\n",
       "    reviewTitle reviewDescription       reviewAuthor   reviewAt  reviewLikes  \\\n",
       "0     Just wow!      unbelievable       KOUSIK DUTTA  Aug, 2018            0   \n",
       "1       Awesome       good mobile  Flipkart Customer  Aug, 2018            0   \n",
       "2  Does the job              good     Rakesh  Ranjan  Aug, 2018            0   \n",
       "3          Good         it's good        PabiT Gouda  Aug, 2018            0   \n",
       "4     Wonderful         very nice        Sujal Patel  Aug, 2018            0   \n",
       "\n",
       "   reviewDislikes  certifiedBuyer reviewerLocation  fiveStarRatingCount  \\\n",
       "0               0            True          Burdwan               220147   \n",
       "1               0            True          Kurnool               220147   \n",
       "2               0            True            Noida               220147   \n",
       "3               0            True           Behror               220147   \n",
       "4               0            True        Dharampur               220147   \n",
       "\n",
       "   fourStarRatingCount  threeStarRatingCount  twoStarRatingCount  \\\n",
       "0                83936                 30026               10267   \n",
       "1                83936                 30026               10267   \n",
       "2                83936                 30026               10267   \n",
       "3                83936                 30026               10267   \n",
       "4                83936                 30026               10267   \n",
       "\n",
       "   oneStarRatingCount reviewImages            scrapedAt  \\\n",
       "0               21199     No Image  21/02/2022 00:57:30   \n",
       "1               21199     No Image  21/02/2022 00:57:30   \n",
       "2               21199     No Image  21/02/2022 00:57:30   \n",
       "3               21199     No Image  21/02/2022 00:57:30   \n",
       "4               21199     No Image  21/02/2022 00:57:30   \n",
       "\n",
       "                                 uniqId  \n",
       "0  db7fc5e1-684d-5d92-a41b-25e40f37c0fe  \n",
       "1  a2661c23-13b4-5823-959d-4324b9442056  \n",
       "2  0f2d6a35-7f63-57f8-8d20-0c8ab3141c74  \n",
       "3  f39db306-aca5-5c62-a75b-a9248de9566f  \n",
       "4  27d2b3b2-7034-52b8-9b64-df5778853f44  "
      ]
     },
     "execution_count": 10,
     "metadata": {},
     "output_type": "execute_result"
    }
   ],
   "source": [
    "df.head()"
   ]
  },
  {
   "cell_type": "markdown",
   "id": "b9f8e7a5",
   "metadata": {},
   "source": [
    "**Data Analysis**"
   ]
  },
  {
   "cell_type": "code",
   "execution_count": 11,
   "id": "0b112511",
   "metadata": {},
   "outputs": [
    {
     "data": {
      "image/png": "[encoded data removed]",
      "text/plain": [
       "<Figure size 1000x600 with 1 Axes>"
      ]
     },
     "metadata": {},
     "output_type": "display_data"
    }
   ],
   "source": [
    "import matplotlib.pyplot as plt\n",
    "\n",
    "rating_counts = df[['fiveStarRatingCount', \n",
    "                    'fourStarRatingCount', \n",
    "                    'threeStarRatingCount', \n",
    "                    'twoStarRatingCount', \n",
    "                    'oneStarRatingCount']].sum()\n",
    "\n",
    "plt.figure(figsize=(10, 6))\n",
    "\n",
    "rating_counts.plot(kind='bar', color=['#4CAF50', \n",
    "                                      '#2196F3', \n",
    "                                      '#FFC107', \n",
    "                                      '#FF5722', \n",
    "                                      '#F44336'])\n",
    "\n",
    "plt.title('Distribution of Ratings')\n",
    "plt.xlabel('Rating')\n",
    "plt.ylabel('Count')\n",
    "\n",
    "plt.xticks(ticks=range(5), rotation=0, labels=['5 Stars', \n",
    "                                               '4 Stars', \n",
    "                                               '3 Stars', \n",
    "                                               '2 Stars', \n",
    "                                               '1 Star'])\n",
    "plt.show()"
   ]
  },
  {
   "cell_type": "markdown",
   "id": "a55f573f",
   "metadata": {},
   "source": [
    "**Model Selection**"
   ]
  },
  {
   "cell_type": "markdown",
   "id": "79be9df2",
   "metadata": {},
   "source": [
    "Surprise is a Python scikit for **building and analyzing recommender systems** that deal with explicit **rating data**.\n",
    "Surprise was designed with the following purposes in mind: Give users perfect control over their experiments.\n",
    "Surprise provides various tools to run cross-validation procedures and search the best parameters for a prediction algorithm. "
   ]
  },
  {
   "cell_type": "code",
   "execution_count": 13,
   "id": "a69bbe42",
   "metadata": {},
   "outputs": [],
   "source": [
    "from surprise import Dataset, Reader\n",
    "\n",
    "reader = Reader(rating_scale=(1, 5))\n",
    "data = Dataset.load_from_df(df[['reviewAuthor', \n",
    "                                'productTitle', \n",
    "                                'averageRating']], reader)"
   ]
  },
  {
   "cell_type": "code",
   "execution_count": 14,
   "id": "158330f2",
   "metadata": {},
   "outputs": [],
   "source": [
    "from surprise.model_selection import train_test_split\n",
    "\n",
    "trainset, testset = train_test_split(data, test_size=0.2)"
   ]
  },
  {
   "cell_type": "code",
   "execution_count": 16,
   "id": "b5f42aea",
   "metadata": {},
   "outputs": [
    {
     "data": {
      "text/plain": [
       "<surprise.prediction_algorithms.matrix_factorization.SVD at 0x1e8000909e0>"
      ]
     },
     "execution_count": 16,
     "metadata": {},
     "output_type": "execute_result"
    }
   ],
   "source": [
    "from surprise import SVD\n",
    "\n",
    "model = SVD()\n",
    "model.fit(trainset)"
   ]
  },
  {
   "cell_type": "code",
   "execution_count": 17,
   "id": "813c7231",
   "metadata": {},
   "outputs": [],
   "source": [
    "predictions = model.test(testset)"
   ]
  },
  {
   "cell_type": "code",
   "execution_count": 20,
   "id": "2cf43e82",
   "metadata": {},
   "outputs": [
    {
     "name": "stdout",
     "output_type": "stream",
     "text": [
      "Evaluating RMSE, MAE of algorithm SVD on 5 split(s).\n",
      "\n",
      "                  Fold 1  Fold 2  Fold 3  Fold 4  Fold 5  Mean    Std     \n",
      "RMSE (testset)    0.1323  0.1169  0.1476  0.1104  0.1264  0.1267  0.0129  \n",
      "MAE (testset)     0.1023  0.0946  0.1094  0.0812  0.0931  0.0961  0.0095  \n",
      "Fit time          0.02    0.01    0.01    0.01    0.01    0.01    0.00    \n",
      "Test time         0.00    0.00    0.01    0.00    0.00    0.00    0.00    \n"
     ]
    },
    {
     "data": {
      "text/plain": [
       "{'test_rmse': array([0.13233698, 0.11694786, 0.14759241, 0.11043711, 0.12637899]),\n",
       " 'test_mae': array([0.10229739, 0.09459811, 0.10937598, 0.08116086, 0.09308113]),\n",
       " 'fit_time': (0.015388727188110352,\n",
       "  0.009551048278808594,\n",
       "  0.01375436782836914,\n",
       "  0.010773181915283203,\n",
       "  0.013584613800048828),\n",
       " 'test_time': (0.0027141571044921875, 0.0, 0.008050203323364258, 0.0, 0.0)}"
      ]
     },
     "execution_count": 20,
     "metadata": {},
     "output_type": "execute_result"
    }
   ],
   "source": [
    "from surprise.model_selection import cross_validate\n",
    "\n",
    "cross_validate(model, data, measures=['RMSE', 'MAE'], \n",
    "               cv=5, verbose=True)"
   ]
  },
  {
   "cell_type": "markdown",
   "id": "0d16f0c1",
   "metadata": {},
   "source": [
    "**Generate Recommendations**"
   ]
  },
  {
   "cell_type": "code",
   "execution_count": 23,
   "id": "a7247e85",
   "metadata": {},
   "outputs": [],
   "source": [
    "def get_top_n(predictions, n=10):\n",
    "    '''Return the top-N recommendation for each user from a set of predictions.'''\n",
    "    top_n = defaultdict(list)\n",
    "    \n",
    "    for uid, iid, true_r, est, _ in predictions:\n",
    "        top_n[uid].append((iid, est))\n",
    "\n",
    "    for uid, user_ratings in top_n.items():\n",
    "        user_ratings.sort(key=lambda x: x[1], reverse=True)\n",
    "        top_n[uid] = user_ratings[:n]\n",
    "\n",
    "    return top_n"
   ]
  },
  {
   "cell_type": "code",
   "execution_count": 24,
   "id": "3373b98a",
   "metadata": {},
   "outputs": [],
   "source": [
    "top_n = get_top_n(predictions, n=10)"
   ]
  },
  {
   "cell_type": "code",
   "execution_count": 25,
   "id": "2e1f9ae3",
   "metadata": {},
   "outputs": [],
   "source": [
    "recommendations = []\n",
    "\n",
    "for uid, user_ratings in top_n.items():\n",
    "    for (iid, est) in user_ratings:\n",
    "        recommendations.append([uid, iid, est])"
   ]
  },
  {
   "cell_type": "code",
   "execution_count": 26,
   "id": "d76964b8",
   "metadata": {},
   "outputs": [],
   "source": [
    "recommendations_df = pd.DataFrame(recommendations, \n",
    "                                  columns=['User', \n",
    "                                           'Product', \n",
    "                                           'EstimatedRating'])"
   ]
  },
  {
   "cell_type": "code",
   "execution_count": 27,
   "id": "808a8c51",
   "metadata": {},
   "outputs": [
    {
     "data": {
      "text/html": [
       "<div>\n",
       "<style scoped>\n",
       "    .dataframe tbody tr th:only-of-type {\n",
       "        vertical-align: middle;\n",
       "    }\n",
       "\n",
       "    .dataframe tbody tr th {\n",
       "        vertical-align: top;\n",
       "    }\n",
       "\n",
       "    .dataframe thead th {\n",
       "        text-align: right;\n",
       "    }\n",
       "</style>\n",
       "<table border=\"1\" class=\"dataframe\">\n",
       "  <thead>\n",
       "    <tr style=\"text-align: right;\">\n",
       "      <th></th>\n",
       "      <th>User</th>\n",
       "      <th>Product</th>\n",
       "      <th>EstimatedRating</th>\n",
       "    </tr>\n",
       "  </thead>\n",
       "  <tbody>\n",
       "    <tr>\n",
       "      <th>0</th>\n",
       "      <td>VINOTH S</td>\n",
       "      <td>Skullcandy Ink'd Bluetooth Headset with Mic</td>\n",
       "      <td>4.186444</td>\n",
       "    </tr>\n",
       "    <tr>\n",
       "      <th>1</th>\n",
       "      <td>Amol</td>\n",
       "      <td>Skullcandy Jib Headset with mic</td>\n",
       "      <td>4.141376</td>\n",
       "    </tr>\n",
       "    <tr>\n",
       "      <th>2</th>\n",
       "      <td>Aamir Haque</td>\n",
       "      <td>APPLE iPhone SE (Black, 256 GB)</td>\n",
       "      <td>4.356553</td>\n",
       "    </tr>\n",
       "    <tr>\n",
       "      <th>3</th>\n",
       "      <td>Maheshswari  Maheshswari</td>\n",
       "      <td>REDMI 9i (Sea Blue, 64 GB)</td>\n",
       "      <td>4.257640</td>\n",
       "    </tr>\n",
       "    <tr>\n",
       "      <th>4</th>\n",
       "      <td>Vivek  Kumar</td>\n",
       "      <td>boAt BassHeads 220 Super Extra Bass Wired Headset</td>\n",
       "      <td>4.195832</td>\n",
       "    </tr>\n",
       "  </tbody>\n",
       "</table>\n",
       "</div>"
      ],
      "text/plain": [
       "                        User  \\\n",
       "0                   VINOTH S   \n",
       "1                       Amol   \n",
       "2                Aamir Haque   \n",
       "3  Maheshswari  Maheshswari    \n",
       "4               Vivek  Kumar   \n",
       "\n",
       "                                             Product  EstimatedRating  \n",
       "0        Skullcandy Ink'd Bluetooth Headset with Mic         4.186444  \n",
       "1                    Skullcandy Jib Headset with mic         4.141376  \n",
       "2                    APPLE iPhone SE (Black, 256 GB)         4.356553  \n",
       "3                         REDMI 9i (Sea Blue, 64 GB)         4.257640  \n",
       "4  boAt BassHeads 220 Super Extra Bass Wired Headset         4.195832  "
      ]
     },
     "execution_count": 27,
     "metadata": {},
     "output_type": "execute_result"
    }
   ],
   "source": [
    "recommendations_df.head()"
   ]
  },
  {
   "cell_type": "code",
   "execution_count": 28,
   "id": "2ed1d15e",
   "metadata": {},
   "outputs": [],
   "source": [
    "recommendations_df.to_csv('recommendations.csv', index=False)"
   ]
  },
  {
   "cell_type": "code",
   "execution_count": null,
   "id": "6db1ad22",
   "metadata": {},
   "outputs": [],
   "source": []
  }
 ],
 "metadata": {
  "kernelspec": {
   "display_name": "Jupyter Notebook",
   "language": "python",
   "name": "environment"
  },
  "language_info": {
   "codemirror_mode": {
    "name": "ipython",
    "version": 3
   },
   "file_extension": ".py",
   "mimetype": "text/x-python",
   "name": "python",
   "nbconvert_exporter": "python",
   "pygments_lexer": "ipython3",
   "version": "3.12.4"
  }
 },
 "nbformat": 4,
 "nbformat_minor": 5
}
